{
 "cells": [
  {
   "cell_type": "code",
   "execution_count": 2,
   "id": "6282bc3b",
   "metadata": {},
   "outputs": [],
   "source": [
    "import pandas as pd"
   ]
  },
  {
   "cell_type": "code",
   "execution_count": 12,
   "id": "62e9af6e",
   "metadata": {},
   "outputs": [
    {
     "data": {
      "text/html": [
       "<div>\n",
       "<style scoped>\n",
       "    .dataframe tbody tr th:only-of-type {\n",
       "        vertical-align: middle;\n",
       "    }\n",
       "\n",
       "    .dataframe tbody tr th {\n",
       "        vertical-align: top;\n",
       "    }\n",
       "\n",
       "    .dataframe thead th {\n",
       "        text-align: right;\n",
       "    }\n",
       "</style>\n",
       "<table border=\"1\" class=\"dataframe\">\n",
       "  <thead>\n",
       "    <tr style=\"text-align: right;\">\n",
       "      <th></th>\n",
       "      <th>subject</th>\n",
       "      <th>img_array</th>\n",
       "    </tr>\n",
       "  </thead>\n",
       "  <tbody>\n",
       "    <tr>\n",
       "      <th>2428</th>\n",
       "      <td>036_S_1023</td>\n",
       "      <td>[[[[1.96459004e+02 2.49132947e-02 0.00000000e+...</td>\n",
       "    </tr>\n",
       "    <tr>\n",
       "      <th>2557</th>\n",
       "      <td>057_S_1269</td>\n",
       "      <td>[[[[1.66259665 0.         0.        ], [4.0008...</td>\n",
       "    </tr>\n",
       "    <tr>\n",
       "      <th>2900</th>\n",
       "      <td>082_S_4224</td>\n",
       "      <td>[[[[0. 0. 0.], [0. 0. 0.], [0. 0. 0.], [0.0000...</td>\n",
       "    </tr>\n",
       "    <tr>\n",
       "      <th>2926</th>\n",
       "      <td>082_S_4224</td>\n",
       "      <td>[[[[0. 0. 0.], [0. 0. 0.], [0.         0.     ...</td>\n",
       "    </tr>\n",
       "    <tr>\n",
       "      <th>4139</th>\n",
       "      <td>137_S_4258</td>\n",
       "      <td>[[[[64.01320793  0.          0.        ], [6.4...</td>\n",
       "    </tr>\n",
       "    <tr>\n",
       "      <th>...</th>\n",
       "      <td>...</td>\n",
       "      <td>...</td>\n",
       "    </tr>\n",
       "    <tr>\n",
       "      <th>3474</th>\n",
       "      <td>123_S_1300</td>\n",
       "      <td>[[[[0.00104153 0.         0.        ], [1.2682...</td>\n",
       "    </tr>\n",
       "    <tr>\n",
       "      <th>4403</th>\n",
       "      <td>137_S_4482</td>\n",
       "      <td>[[[[5.60799657 0.3259591  0.        ], [4.9211...</td>\n",
       "    </tr>\n",
       "    <tr>\n",
       "      <th>1289</th>\n",
       "      <td>022_S_4291</td>\n",
       "      <td>[[[[219.21357904 241.58778055   0.        ], [...</td>\n",
       "    </tr>\n",
       "    <tr>\n",
       "      <th>3184</th>\n",
       "      <td>098_S_4050</td>\n",
       "      <td>[[[[0.         0.07760359 0.        ], [0.0000...</td>\n",
       "    </tr>\n",
       "    <tr>\n",
       "      <th>3485</th>\n",
       "      <td>130_S_4660</td>\n",
       "      <td>[[[[ 0.         14.19138522  0.        ], [0. ...</td>\n",
       "    </tr>\n",
       "  </tbody>\n",
       "</table>\n",
       "<p>4190 rows × 2 columns</p>\n",
       "</div>"
      ],
      "text/plain": [
       "         subject                                          img_array\n",
       "2428  036_S_1023  [[[[1.96459004e+02 2.49132947e-02 0.00000000e+...\n",
       "2557  057_S_1269  [[[[1.66259665 0.         0.        ], [4.0008...\n",
       "2900  082_S_4224  [[[[0. 0. 0.], [0. 0. 0.], [0. 0. 0.], [0.0000...\n",
       "2926  082_S_4224  [[[[0. 0. 0.], [0. 0. 0.], [0.         0.     ...\n",
       "4139  137_S_4258  [[[[64.01320793  0.          0.        ], [6.4...\n",
       "...          ...                                                ...\n",
       "3474  123_S_1300  [[[[0.00104153 0.         0.        ], [1.2682...\n",
       "4403  137_S_4482  [[[[5.60799657 0.3259591  0.        ], [4.9211...\n",
       "1289  022_S_4291  [[[[219.21357904 241.58778055   0.        ], [...\n",
       "3184  098_S_4050  [[[[0.         0.07760359 0.        ], [0.0000...\n",
       "3485  130_S_4660  [[[[ 0.         14.19138522  0.        ], [0. ...\n",
       "\n",
       "[4190 rows x 2 columns]"
      ]
     },
     "execution_count": 12,
     "metadata": {},
     "output_type": "execute_result"
    }
   ],
   "source": [
    "df=pd.read_pickle(\"overlap_train/X_train_img.pkl\")\n",
    "df\n"
   ]
  }
 ],
 "metadata": {
  "kernelspec": {
   "display_name": "env",
   "language": "python",
   "name": "python3"
  },
  "language_info": {
   "codemirror_mode": {
    "name": "ipython",
    "version": 3
   },
   "file_extension": ".py",
   "mimetype": "text/x-python",
   "name": "python",
   "nbconvert_exporter": "python",
   "pygments_lexer": "ipython3",
   "version": "3.7.4"
  },
  "vscode": {
   "interpreter": {
    "hash": "a0d9d7ce8d64164131bb1da12775a4ce04dfce67309b67de1f35eb5637b9126f"
   }
  }
 },
 "nbformat": 4,
 "nbformat_minor": 5
}
