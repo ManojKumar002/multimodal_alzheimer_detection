{
 "cells": [
  {
   "attachments": {},
   "cell_type": "markdown",
   "id": "977404c9",
   "metadata": {},
   "source": [
    "This notebook splits the imaging data into training and testing such that there are no repeating patients in the test set and that the patients in the test set do not appear in training. "
   ]
  },
  {
   "cell_type": "code",
   "execution_count": 1,
   "id": "fdbdb14f-2376-480f-bd77-4644d46bef39",
   "metadata": {},
   "outputs": [
    {
     "data": {
      "text/html": [
       "<div>\n",
       "<style scoped>\n",
       "    .dataframe tbody tr th:only-of-type {\n",
       "        vertical-align: middle;\n",
       "    }\n",
       "\n",
       "    .dataframe tbody tr th {\n",
       "        vertical-align: top;\n",
       "    }\n",
       "\n",
       "    .dataframe thead th {\n",
       "        text-align: right;\n",
       "    }\n",
       "</style>\n",
       "<table border=\"1\" class=\"dataframe\">\n",
       "  <thead>\n",
       "    <tr style=\"text-align: right;\">\n",
       "      <th></th>\n",
       "      <th>img_array</th>\n",
       "      <th>label</th>\n",
       "      <th>subject</th>\n",
       "    </tr>\n",
       "  </thead>\n",
       "  <tbody>\n",
       "    <tr>\n",
       "      <th>0</th>\n",
       "      <td>[[[[36.45114748 37.26595571  0.52279603], [63....</td>\n",
       "      <td>0</td>\n",
       "      <td>002_S_0413</td>\n",
       "    </tr>\n",
       "    <tr>\n",
       "      <th>1</th>\n",
       "      <td>[[[[28.35968846 60.78608813 53.39332376], [33....</td>\n",
       "      <td>0</td>\n",
       "      <td>002_S_0413</td>\n",
       "    </tr>\n",
       "    <tr>\n",
       "      <th>2</th>\n",
       "      <td>[[[[67.34232458 13.72514765 39.75249768], [65....</td>\n",
       "      <td>0</td>\n",
       "      <td>002_S_0413</td>\n",
       "    </tr>\n",
       "    <tr>\n",
       "      <th>3</th>\n",
       "      <td>[[[[26.51095324 49.75030355  0.36219632], [84....</td>\n",
       "      <td>0</td>\n",
       "      <td>002_S_0413</td>\n",
       "    </tr>\n",
       "    <tr>\n",
       "      <th>4</th>\n",
       "      <td>[[[[31.09818037 49.19945394 54.24074462], [33....</td>\n",
       "      <td>0</td>\n",
       "      <td>002_S_0413</td>\n",
       "    </tr>\n",
       "    <tr>\n",
       "      <th>...</th>\n",
       "      <td>...</td>\n",
       "      <td>...</td>\n",
       "      <td>...</td>\n",
       "    </tr>\n",
       "    <tr>\n",
       "      <th>5735</th>\n",
       "      <td>[[[[30.15725086 52.06041119  2.73605637], [37....</td>\n",
       "      <td>0</td>\n",
       "      <td>941_S_4376</td>\n",
       "    </tr>\n",
       "    <tr>\n",
       "      <th>5736</th>\n",
       "      <td>[[[[ 28.11486643 550.89959322   1.4210884 ], [...</td>\n",
       "      <td>0</td>\n",
       "      <td>941_S_4376</td>\n",
       "    </tr>\n",
       "    <tr>\n",
       "      <th>5737</th>\n",
       "      <td>[[[[ 26.33395312 250.418828     1.31288741], [...</td>\n",
       "      <td>0</td>\n",
       "      <td>941_S_4376</td>\n",
       "    </tr>\n",
       "    <tr>\n",
       "      <th>5738</th>\n",
       "      <td>[[[[ 18.94171287 233.47920191   1.27902779], [...</td>\n",
       "      <td>0</td>\n",
       "      <td>941_S_4376</td>\n",
       "    </tr>\n",
       "    <tr>\n",
       "      <th>5739</th>\n",
       "      <td>[[[[30.56420535 30.7631704   3.47091932], [25....</td>\n",
       "      <td>0</td>\n",
       "      <td>941_S_4376</td>\n",
       "    </tr>\n",
       "  </tbody>\n",
       "</table>\n",
       "<p>5146 rows × 3 columns</p>\n",
       "</div>"
      ],
      "text/plain": [
       "                                              img_array label     subject\n",
       "0     [[[[36.45114748 37.26595571  0.52279603], [63....     0  002_S_0413\n",
       "1     [[[[28.35968846 60.78608813 53.39332376], [33....     0  002_S_0413\n",
       "2     [[[[67.34232458 13.72514765 39.75249768], [65....     0  002_S_0413\n",
       "3     [[[[26.51095324 49.75030355  0.36219632], [84....     0  002_S_0413\n",
       "4     [[[[31.09818037 49.19945394 54.24074462], [33....     0  002_S_0413\n",
       "...                                                 ...   ...         ...\n",
       "5735  [[[[30.15725086 52.06041119  2.73605637], [37....     0  941_S_4376\n",
       "5736  [[[[ 28.11486643 550.89959322   1.4210884 ], [...     0  941_S_4376\n",
       "5737  [[[[ 26.33395312 250.418828     1.31288741], [...     0  941_S_4376\n",
       "5738  [[[[ 18.94171287 233.47920191   1.27902779], [...     0  941_S_4376\n",
       "5739  [[[[30.56420535 30.7631704   3.47091932], [25....     0  941_S_4376\n",
       "\n",
       "[5146 rows x 3 columns]"
      ]
     },
     "execution_count": 1,
     "metadata": {},
     "output_type": "execute_result"
    }
   ],
   "source": [
    "import pandas as pd\n",
    "import random\n",
    "#reading in a dataframe that contains image arrays, patient IDs (\"subject\"), and diagnosis\n",
    "m2 = pd.read_pickle(\"mri_meta.pkl\")\n",
    "\n",
    "#cleaning patient IDs\n",
    "m2[\"subject\"] = m2[\"subject\"].str.replace(\"s\", \"S\").str.replace(\"\\n\", \"\")\n",
    "\n",
    "#reading in the overlap test set\n",
    "ts = pd.read_csv(\"overlap_test_set.csv\")\n",
    "\n",
    "#removing ids from the overlap test set\n",
    "m2 = m2[~m2[\"subject\"].isin(list(ts[\"subject\"].values))]\n",
    "m2"
   ]
  },
  {
   "cell_type": "code",
   "execution_count": 2,
   "id": "e456ba68-80d5-45eb-ba12-703912383a06",
   "metadata": {},
   "outputs": [
    {
     "data": {
      "text/plain": [
       "331"
      ]
     },
     "execution_count": 2,
     "metadata": {},
     "output_type": "execute_result"
    }
   ],
   "source": [
    "subjects = list(set(m2[\"subject\"].values))\n",
    "len(subjects)"
   ]
  },
  {
   "cell_type": "code",
   "execution_count": 12,
   "id": "f02c4c2f-a9fc-45c6-b829-9f01486a1ede",
   "metadata": {},
   "outputs": [],
   "source": [
    "picked_ids = random.sample(subjects,40)"
   ]
  },
  {
   "cell_type": "code",
   "execution_count": 13,
   "id": "c4e7d87c-21de-4001-bcd7-1c7df24ef03b",
   "metadata": {},
   "outputs": [
    {
     "data": {
      "text/html": [
       "<div>\n",
       "<style scoped>\n",
       "    .dataframe tbody tr th:only-of-type {\n",
       "        vertical-align: middle;\n",
       "    }\n",
       "\n",
       "    .dataframe tbody tr th {\n",
       "        vertical-align: top;\n",
       "    }\n",
       "\n",
       "    .dataframe thead th {\n",
       "        text-align: right;\n",
       "    }\n",
       "</style>\n",
       "<table border=\"1\" class=\"dataframe\">\n",
       "  <thead>\n",
       "    <tr style=\"text-align: right;\">\n",
       "      <th></th>\n",
       "      <th>img_array</th>\n",
       "      <th>subject</th>\n",
       "      <th>label</th>\n",
       "    </tr>\n",
       "  </thead>\n",
       "  <tbody>\n",
       "    <tr>\n",
       "      <th>1285</th>\n",
       "      <td>[[[[7.11156279 9.08812032 0.70540811], [ 8.263...</td>\n",
       "      <td>018_S_4399</td>\n",
       "      <td>0</td>\n",
       "    </tr>\n",
       "    <tr>\n",
       "      <th>1286</th>\n",
       "      <td>[[[[85.0602055  10.82602557 12.75194104], [87....</td>\n",
       "      <td>018_S_4399</td>\n",
       "      <td>0</td>\n",
       "    </tr>\n",
       "    <tr>\n",
       "      <th>1287</th>\n",
       "      <td>[[[[ 9.52641575 26.50618357 11.57507401], [13....</td>\n",
       "      <td>018_S_4399</td>\n",
       "      <td>0</td>\n",
       "    </tr>\n",
       "    <tr>\n",
       "      <th>1288</th>\n",
       "      <td>[[[[12.42748664 77.79214266  6.76133152], [15....</td>\n",
       "      <td>018_S_4399</td>\n",
       "      <td>0</td>\n",
       "    </tr>\n",
       "    <tr>\n",
       "      <th>1289</th>\n",
       "      <td>[[[[105.42138688   7.42936496   6.24551578], [...</td>\n",
       "      <td>018_S_4399</td>\n",
       "      <td>0</td>\n",
       "    </tr>\n",
       "    <tr>\n",
       "      <th>...</th>\n",
       "      <td>...</td>\n",
       "      <td>...</td>\n",
       "      <td>...</td>\n",
       "    </tr>\n",
       "    <tr>\n",
       "      <th>4861</th>\n",
       "      <td>[[[[0.83766848 0.99892293 2.77571537], [1.1773...</td>\n",
       "      <td>128_S_1407</td>\n",
       "      <td>1</td>\n",
       "    </tr>\n",
       "    <tr>\n",
       "      <th>4862</th>\n",
       "      <td>[[[[144.26082478  22.40667962  24.24174308], [...</td>\n",
       "      <td>128_S_1407</td>\n",
       "      <td>1</td>\n",
       "    </tr>\n",
       "    <tr>\n",
       "      <th>4863</th>\n",
       "      <td>[[[[198.49663129  31.47953848  27.34683689], [...</td>\n",
       "      <td>128_S_1407</td>\n",
       "      <td>1</td>\n",
       "    </tr>\n",
       "    <tr>\n",
       "      <th>4864</th>\n",
       "      <td>[[[[43.05474056 13.21280384 10.61013824], [42....</td>\n",
       "      <td>128_S_1407</td>\n",
       "      <td>1</td>\n",
       "    </tr>\n",
       "    <tr>\n",
       "      <th>4865</th>\n",
       "      <td>[[[[7.64347721 2.30466639 5.77582693], [8.5612...</td>\n",
       "      <td>128_S_1407</td>\n",
       "      <td>1</td>\n",
       "    </tr>\n",
       "  </tbody>\n",
       "</table>\n",
       "<p>502 rows × 3 columns</p>\n",
       "</div>"
      ],
      "text/plain": [
       "                                              img_array     subject label\n",
       "1285  [[[[7.11156279 9.08812032 0.70540811], [ 8.263...  018_S_4399     0\n",
       "1286  [[[[85.0602055  10.82602557 12.75194104], [87....  018_S_4399     0\n",
       "1287  [[[[ 9.52641575 26.50618357 11.57507401], [13....  018_S_4399     0\n",
       "1288  [[[[12.42748664 77.79214266  6.76133152], [15....  018_S_4399     0\n",
       "1289  [[[[105.42138688   7.42936496   6.24551578], [...  018_S_4399     0\n",
       "...                                                 ...         ...   ...\n",
       "4861  [[[[0.83766848 0.99892293 2.77571537], [1.1773...  128_S_1407     1\n",
       "4862  [[[[144.26082478  22.40667962  24.24174308], [...  128_S_1407     1\n",
       "4863  [[[[198.49663129  31.47953848  27.34683689], [...  128_S_1407     1\n",
       "4864  [[[[43.05474056 13.21280384 10.61013824], [42....  128_S_1407     1\n",
       "4865  [[[[7.64347721 2.30466639 5.77582693], [8.5612...  128_S_1407     1\n",
       "\n",
       "[502 rows x 3 columns]"
      ]
     },
     "execution_count": 13,
     "metadata": {},
     "output_type": "execute_result"
    }
   ],
   "source": [
    "#creating the test set out of the patient IDs\n",
    "test = pd.DataFrame(columns = [\"img_array\", \"subject\", \"label\"]) \n",
    "for i in range(len(picked_ids)):\n",
    "    s = m2[m2[\"subject\"] == picked_ids[i]]\n",
    "    # print(s)\n",
    "    test = test.append(s)\n",
    "test"
   ]
  },
  {
   "cell_type": "code",
   "execution_count": 14,
   "id": "0f3ad6c8-0485-40cb-92fe-7dcf9175eaee",
   "metadata": {},
   "outputs": [
    {
     "data": {
      "text/plain": [
       "4644"
      ]
     },
     "execution_count": 14,
     "metadata": {},
     "output_type": "execute_result"
    }
   ],
   "source": [
    "indexes = list(set(m2.index) - set(test.index))\n",
    "len(indexes)"
   ]
  },
  {
   "cell_type": "code",
   "execution_count": 15,
   "id": "4e8c7464-9a42-4e2b-b959-fd2841c04782",
   "metadata": {},
   "outputs": [],
   "source": [
    "#creating the training set using all the other data points\n",
    "train = m2[m2.index.isin(indexes)]"
   ]
  },
  {
   "cell_type": "code",
   "execution_count": 16,
   "id": "053234ec-61e9-401a-801b-f889ffbf1091",
   "metadata": {},
   "outputs": [],
   "source": [
    "train[[\"img_array\"]].to_pickle(\"img_train.pkl\")\n",
    "test[[\"img_array\"]].to_pickle(\"img_test.pkl\")"
   ]
  },
  {
   "cell_type": "code",
   "execution_count": 17,
   "id": "7a90b7a9-cc67-4ca4-9b11-54f4bbf7e5d6",
   "metadata": {},
   "outputs": [],
   "source": [
    "train[[\"label\"]].to_pickle(\"img_y_train.pkl\")\n",
    "test[[\"label\"]].to_pickle(\"img_y_test.pkl\")"
   ]
  }
 ],
 "metadata": {
  "kernelspec": {
   "display_name": "Python 3 (ipykernel)",
   "language": "python",
   "name": "python3"
  },
  "language_info": {
   "codemirror_mode": {
    "name": "ipython",
    "version": 3
   },
   "file_extension": ".py",
   "mimetype": "text/x-python",
   "name": "python",
   "nbconvert_exporter": "python",
   "pygments_lexer": "ipython3",
   "version": "3.7.4"
  },
  "vscode": {
   "interpreter": {
    "hash": "a0d9d7ce8d64164131bb1da12775a4ce04dfce67309b67de1f35eb5637b9126f"
   }
  }
 },
 "nbformat": 4,
 "nbformat_minor": 5
}
