{
 "cells": [
  {
   "attachments": {},
   "cell_type": "markdown",
   "id": "977404c9",
   "metadata": {},
   "source": [
    "This notebook splits the imaging data into training and testing such that there are no repeating patients in the test set and that the patients in the test set do not appear in training. "
   ]
  },
  {
   "cell_type": "code",
   "execution_count": 18,
   "id": "fdbdb14f-2376-480f-bd77-4644d46bef39",
   "metadata": {},
   "outputs": [
    {
     "data": {
      "text/html": [
       "<div>\n",
       "<style scoped>\n",
       "    .dataframe tbody tr th:only-of-type {\n",
       "        vertical-align: middle;\n",
       "    }\n",
       "\n",
       "    .dataframe tbody tr th {\n",
       "        vertical-align: top;\n",
       "    }\n",
       "\n",
       "    .dataframe thead th {\n",
       "        text-align: right;\n",
       "    }\n",
       "</style>\n",
       "<table border=\"1\" class=\"dataframe\">\n",
       "  <thead>\n",
       "    <tr style=\"text-align: right;\">\n",
       "      <th></th>\n",
       "      <th>img_array</th>\n",
       "      <th>label</th>\n",
       "      <th>subject</th>\n",
       "    </tr>\n",
       "  </thead>\n",
       "  <tbody>\n",
       "    <tr>\n",
       "      <th>0</th>\n",
       "      <td>[[[[36.45114748 37.26595571  0.52279603], [63....</td>\n",
       "      <td>0</td>\n",
       "      <td>002_S_0413</td>\n",
       "    </tr>\n",
       "    <tr>\n",
       "      <th>1</th>\n",
       "      <td>[[[[28.35968846 60.78608813 53.39332376], [33....</td>\n",
       "      <td>0</td>\n",
       "      <td>002_S_0413</td>\n",
       "    </tr>\n",
       "    <tr>\n",
       "      <th>2</th>\n",
       "      <td>[[[[67.34232458 13.72514765 39.75249768], [65....</td>\n",
       "      <td>0</td>\n",
       "      <td>002_S_0413</td>\n",
       "    </tr>\n",
       "    <tr>\n",
       "      <th>3</th>\n",
       "      <td>[[[[26.51095324 49.75030355  0.36219632], [84....</td>\n",
       "      <td>0</td>\n",
       "      <td>002_S_0413</td>\n",
       "    </tr>\n",
       "    <tr>\n",
       "      <th>4</th>\n",
       "      <td>[[[[31.09818037 49.19945394 54.24074462], [33....</td>\n",
       "      <td>0</td>\n",
       "      <td>002_S_0413</td>\n",
       "    </tr>\n",
       "    <tr>\n",
       "      <th>...</th>\n",
       "      <td>...</td>\n",
       "      <td>...</td>\n",
       "      <td>...</td>\n",
       "    </tr>\n",
       "    <tr>\n",
       "      <th>5735</th>\n",
       "      <td>[[[[30.15725086 52.06041119  2.73605637], [37....</td>\n",
       "      <td>0</td>\n",
       "      <td>941_S_4376</td>\n",
       "    </tr>\n",
       "    <tr>\n",
       "      <th>5736</th>\n",
       "      <td>[[[[ 28.11486643 550.89959322   1.4210884 ], [...</td>\n",
       "      <td>0</td>\n",
       "      <td>941_S_4376</td>\n",
       "    </tr>\n",
       "    <tr>\n",
       "      <th>5737</th>\n",
       "      <td>[[[[ 26.33395312 250.418828     1.31288741], [...</td>\n",
       "      <td>0</td>\n",
       "      <td>941_S_4376</td>\n",
       "    </tr>\n",
       "    <tr>\n",
       "      <th>5738</th>\n",
       "      <td>[[[[ 18.94171287 233.47920191   1.27902779], [...</td>\n",
       "      <td>0</td>\n",
       "      <td>941_S_4376</td>\n",
       "    </tr>\n",
       "    <tr>\n",
       "      <th>5739</th>\n",
       "      <td>[[[[30.56420535 30.7631704   3.47091932], [25....</td>\n",
       "      <td>0</td>\n",
       "      <td>941_S_4376</td>\n",
       "    </tr>\n",
       "  </tbody>\n",
       "</table>\n",
       "<p>5146 rows × 3 columns</p>\n",
       "</div>"
      ],
      "text/plain": [
       "                                              img_array label     subject\n",
       "0     [[[[36.45114748 37.26595571  0.52279603], [63....     0  002_S_0413\n",
       "1     [[[[28.35968846 60.78608813 53.39332376], [33....     0  002_S_0413\n",
       "2     [[[[67.34232458 13.72514765 39.75249768], [65....     0  002_S_0413\n",
       "3     [[[[26.51095324 49.75030355  0.36219632], [84....     0  002_S_0413\n",
       "4     [[[[31.09818037 49.19945394 54.24074462], [33....     0  002_S_0413\n",
       "...                                                 ...   ...         ...\n",
       "5735  [[[[30.15725086 52.06041119  2.73605637], [37....     0  941_S_4376\n",
       "5736  [[[[ 28.11486643 550.89959322   1.4210884 ], [...     0  941_S_4376\n",
       "5737  [[[[ 26.33395312 250.418828     1.31288741], [...     0  941_S_4376\n",
       "5738  [[[[ 18.94171287 233.47920191   1.27902779], [...     0  941_S_4376\n",
       "5739  [[[[30.56420535 30.7631704   3.47091932], [25....     0  941_S_4376\n",
       "\n",
       "[5146 rows x 3 columns]"
      ]
     },
     "execution_count": 18,
     "metadata": {},
     "output_type": "execute_result"
    }
   ],
   "source": [
    "import pandas as pd\n",
    "import random\n",
    "#reading in a dataframe that contains image arrays, patient IDs (\"subject\"), and diagnosis\n",
    "m2 = pd.read_pickle(\"mri_meta.pkl\")\n",
    "\n",
    "#cleaning patient IDs\n",
    "m2[\"subject\"] = m2[\"subject\"].str.replace(\"s\", \"S\").str.replace(\"\\n\", \"\")\n",
    "\n",
    "#reading in the overlap test set\n",
    "ts = pd.read_csv(\"overlap_test_set.csv\")\n",
    "\n",
    "#removing ids from the overlap test set\n",
    "m2 = m2[~m2[\"subject\"].isin(list(ts[\"subject\"].values))]\n",
    "m2"
   ]
  },
  {
   "cell_type": "code",
   "execution_count": 19,
   "id": "e456ba68-80d5-45eb-ba12-703912383a06",
   "metadata": {},
   "outputs": [
    {
     "data": {
      "text/plain": [
       "331"
      ]
     },
     "execution_count": 19,
     "metadata": {},
     "output_type": "execute_result"
    }
   ],
   "source": [
    "#there are 551 unique patients\n",
    "subjects = list(set(m2[\"subject\"].values))\n",
    "len(subjects)"
   ]
  },
  {
   "cell_type": "code",
   "execution_count": 20,
   "id": "e03e8f08-88a5-4642-a855-c2ab3de8fda7",
   "metadata": {},
   "outputs": [
    {
     "data": {
      "text/plain": [
       "1029.2"
      ]
     },
     "execution_count": 20,
     "metadata": {},
     "output_type": "execute_result"
    }
   ],
   "source": [
    "0.2*len(m2) #10% for testing"
   ]
  },
  {
   "attachments": {},
   "cell_type": "markdown",
   "id": "b8c6615f-3f5e-422a-9d6c-8bba87eea1c5",
   "metadata": {},
   "source": [
    "We have 3674 MRI scans from 551 patients (some patients repeated up to 16 times).\n",
    "We selected our testing set such that it has 367 unique MRIs (10% of training) shwon below. \n",
    "We do not allow for any repeating patients in the testing set. We only allowed repetition during training, and no patient was included in both training and testing sets."
   ]
  },
  {
   "cell_type": "code",
   "execution_count": 21,
   "id": "f02c4c2f-a9fc-45c6-b829-9f01486a1ede",
   "metadata": {},
   "outputs": [],
   "source": [
    "#selecting 367 patient IDs\n",
    "picked_ids = random.sample(subjects,60)"
   ]
  },
  {
   "cell_type": "code",
   "execution_count": 25,
   "id": "c4e7d87c-21de-4001-bcd7-1c7df24ef03b",
   "metadata": {},
   "outputs": [
    {
     "data": {
      "text/html": [
       "<div>\n",
       "<style scoped>\n",
       "    .dataframe tbody tr th:only-of-type {\n",
       "        vertical-align: middle;\n",
       "    }\n",
       "\n",
       "    .dataframe tbody tr th {\n",
       "        vertical-align: top;\n",
       "    }\n",
       "\n",
       "    .dataframe thead th {\n",
       "        text-align: right;\n",
       "    }\n",
       "</style>\n",
       "<table border=\"1\" class=\"dataframe\">\n",
       "  <thead>\n",
       "    <tr style=\"text-align: right;\">\n",
       "      <th></th>\n",
       "      <th>img_array</th>\n",
       "      <th>subject</th>\n",
       "      <th>label</th>\n",
       "    </tr>\n",
       "  </thead>\n",
       "  <tbody>\n",
       "    <tr>\n",
       "      <th>2295</th>\n",
       "      <td>[[[[ 5.59503921 16.56762316  0.84630919], [16....</td>\n",
       "      <td>033_S_0567</td>\n",
       "      <td>1</td>\n",
       "    </tr>\n",
       "    <tr>\n",
       "      <th>2296</th>\n",
       "      <td>[[[[ 6.46584719 26.64359905 13.32751529], [ 7....</td>\n",
       "      <td>033_S_0567</td>\n",
       "      <td>1</td>\n",
       "    </tr>\n",
       "    <tr>\n",
       "      <th>2297</th>\n",
       "      <td>[[[[30.20884581  5.87490673 10.02318587], [30....</td>\n",
       "      <td>033_S_0567</td>\n",
       "      <td>1</td>\n",
       "    </tr>\n",
       "    <tr>\n",
       "      <th>2298</th>\n",
       "      <td>[[[[26.71089092 24.37643344  7.93636607], [20....</td>\n",
       "      <td>033_S_0567</td>\n",
       "      <td>1</td>\n",
       "    </tr>\n",
       "    <tr>\n",
       "      <th>2299</th>\n",
       "      <td>[[[[9.52073974 6.69603216 5.64754991], [8.9284...</td>\n",
       "      <td>033_S_0567</td>\n",
       "      <td>1</td>\n",
       "    </tr>\n",
       "    <tr>\n",
       "      <th>...</th>\n",
       "      <td>...</td>\n",
       "      <td>...</td>\n",
       "      <td>...</td>\n",
       "    </tr>\n",
       "    <tr>\n",
       "      <th>3124</th>\n",
       "      <td>[[[[4.9537037  1.08333333 0.        ], [7.8055...</td>\n",
       "      <td>052_S_4959</td>\n",
       "      <td>2</td>\n",
       "    </tr>\n",
       "    <tr>\n",
       "      <th>3125</th>\n",
       "      <td>[[[[57.96849612 29.95286075 26.41001555], [ 72...</td>\n",
       "      <td>052_S_4959</td>\n",
       "      <td>2</td>\n",
       "    </tr>\n",
       "    <tr>\n",
       "      <th>3126</th>\n",
       "      <td>[[[[69.12801056 30.57484873 62.73713268], [ 69...</td>\n",
       "      <td>052_S_4959</td>\n",
       "      <td>2</td>\n",
       "    </tr>\n",
       "    <tr>\n",
       "      <th>3127</th>\n",
       "      <td>[[[[65.01692453 31.13441991 76.76311174], [63....</td>\n",
       "      <td>052_S_4959</td>\n",
       "      <td>2</td>\n",
       "    </tr>\n",
       "    <tr>\n",
       "      <th>3128</th>\n",
       "      <td>[[[[ 75.57756709  31.32554837 100.79315431], [...</td>\n",
       "      <td>052_S_4959</td>\n",
       "      <td>2</td>\n",
       "    </tr>\n",
       "  </tbody>\n",
       "</table>\n",
       "<p>954 rows × 3 columns</p>\n",
       "</div>"
      ],
      "text/plain": [
       "                                              img_array     subject label\n",
       "2295  [[[[ 5.59503921 16.56762316  0.84630919], [16....  033_S_0567     1\n",
       "2296  [[[[ 6.46584719 26.64359905 13.32751529], [ 7....  033_S_0567     1\n",
       "2297  [[[[30.20884581  5.87490673 10.02318587], [30....  033_S_0567     1\n",
       "2298  [[[[26.71089092 24.37643344  7.93636607], [20....  033_S_0567     1\n",
       "2299  [[[[9.52073974 6.69603216 5.64754991], [8.9284...  033_S_0567     1\n",
       "...                                                 ...         ...   ...\n",
       "3124  [[[[4.9537037  1.08333333 0.        ], [7.8055...  052_S_4959     2\n",
       "3125  [[[[57.96849612 29.95286075 26.41001555], [ 72...  052_S_4959     2\n",
       "3126  [[[[69.12801056 30.57484873 62.73713268], [ 69...  052_S_4959     2\n",
       "3127  [[[[65.01692453 31.13441991 76.76311174], [63....  052_S_4959     2\n",
       "3128  [[[[ 75.57756709  31.32554837 100.79315431], [...  052_S_4959     2\n",
       "\n",
       "[954 rows x 3 columns]"
      ]
     },
     "execution_count": 25,
     "metadata": {},
     "output_type": "execute_result"
    }
   ],
   "source": [
    "#creating the test set out of the patient IDs\n",
    "test = pd.DataFrame(columns = [\"img_array\", \"subject\", \"label\"]) \n",
    "for i in range(len(picked_ids)):\n",
    "    s = m2[m2[\"subject\"] == picked_ids[i]]\n",
    "    # print(s)\n",
    "    test = test.append(s)\n",
    "test"
   ]
  },
  {
   "cell_type": "code",
   "execution_count": 26,
   "id": "0f3ad6c8-0485-40cb-92fe-7dcf9175eaee",
   "metadata": {},
   "outputs": [
    {
     "data": {
      "text/plain": [
       "4192"
      ]
     },
     "execution_count": 26,
     "metadata": {},
     "output_type": "execute_result"
    }
   ],
   "source": [
    "indexes = list(set(m2.index) - set(test.index))\n",
    "len(indexes)"
   ]
  },
  {
   "cell_type": "code",
   "execution_count": 27,
   "id": "4e8c7464-9a42-4e2b-b959-fd2841c04782",
   "metadata": {},
   "outputs": [],
   "source": [
    "#creating the training set using all the other data points\n",
    "train = m2[m2.index.isin(indexes)]"
   ]
  },
  {
   "cell_type": "code",
   "execution_count": 28,
   "id": "053234ec-61e9-401a-801b-f889ffbf1091",
   "metadata": {},
   "outputs": [],
   "source": [
    "train[[\"img_array\"]].to_pickle(\"img_train.pkl\")\n",
    "test[[\"img_array\"]].to_pickle(\"img_test.pkl\")"
   ]
  },
  {
   "cell_type": "code",
   "execution_count": 29,
   "id": "7a90b7a9-cc67-4ca4-9b11-54f4bbf7e5d6",
   "metadata": {},
   "outputs": [],
   "source": [
    "train[[\"label\"]].to_pickle(\"img_y_train.pkl\")\n",
    "test[[\"label\"]].to_pickle(\"img_y_test.pkl\")"
   ]
  }
 ],
 "metadata": {
  "kernelspec": {
   "display_name": "Python 3 (ipykernel)",
   "language": "python",
   "name": "python3"
  },
  "language_info": {
   "codemirror_mode": {
    "name": "ipython",
    "version": 3
   },
   "file_extension": ".py",
   "mimetype": "text/x-python",
   "name": "python",
   "nbconvert_exporter": "python",
   "pygments_lexer": "ipython3",
   "version": "3.7.4"
  },
  "vscode": {
   "interpreter": {
    "hash": "a0d9d7ce8d64164131bb1da12775a4ce04dfce67309b67de1f35eb5637b9126f"
   }
  }
 },
 "nbformat": 4,
 "nbformat_minor": 5
}
